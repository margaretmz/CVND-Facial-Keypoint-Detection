{
  "nbformat": 4,
  "nbformat_minor": 0,
  "metadata": {
    "colab": {
      "name": "0_Fashion Product Images (Small) - Data.ipynb",
      "provenance": [],
      "collapsed_sections": [],
      "authorship_tag": "ABX9TyPOyL3YIx0C/sKBPGAmLOdR",
      "include_colab_link": true
    },
    "kernelspec": {
      "name": "python3",
      "display_name": "Python 3"
    },
    "accelerator": "GPU"
  },
  "cells": [
    {
      "cell_type": "markdown",
      "metadata": {
        "id": "view-in-github",
        "colab_type": "text"
      },
      "source": [
        "<a href=\"https://colab.research.google.com/github/margaretmz/CVND-Facial-Keypoint-Detection/blob/master/0_Fashion_Product_Images_(Small)_Data.ipynb\" target=\"_parent\"><img src=\"https://colab.research.google.com/assets/colab-badge.svg\" alt=\"Open In Colab\"/></a>"
      ]
    },
    {
      "cell_type": "markdown",
      "metadata": {
        "id": "XpLDVadPBtBY"
      },
      "source": [
        "# Fashion Product Images (Small) - Data Analysis\n",
        "\n",
        "Written by Margaret Maynard-Reid, 6/13/2021\n",
        "\n",
        "This notebook contains data exploration and visualization for Fashion Product Images, the small version: https://www.kaggle.com/paramaggarwal/fashion-product-images-small\n",
        "\n",
        "We will mainly use Pandas to create dataframe on `styles.csv' file and analyze the data. "
      ]
    },
    {
      "cell_type": "markdown",
      "metadata": {
        "colab_type": "toc",
        "id": "I4ty6z0bLfY_"
      },
      "source": [
        ">[Fashion Product Images (Small) - Data Analysis](#scrollTo=XpLDVadPBtBY)\n",
        "\n",
        ">>[Imports](#scrollTo=aE-An1Tgz1g6)\n",
        "\n",
        ">>[Download data from Kaggle](#scrollTo=2Snj--fSje9e)\n",
        "\n",
        ">>[Chart utils](#scrollTo=bfT8gNFPXa_I)\n",
        "\n",
        ">>[Create dataframe from csv file](#scrollTo=rqYeQt6Vja-o)\n",
        "\n",
        ">>[Explore dataframe overall](#scrollTo=qgRNfHPQMbGp)\n",
        "\n",
        ">>[Gender](#scrollTo=viWafjBrKeqM)\n",
        "\n",
        ">>[Master Category](#scrollTo=AjhQEdaOKyKO)\n",
        "\n",
        ">>[Sub category](#scrollTo=hD9_kLECLhAa)\n",
        "\n",
        ">>[Master + Sub Category](#scrollTo=ikRmCvKdQiyT)\n",
        "\n",
        ">>[Usage](#scrollTo=XZKNPYgfMNiq)\n",
        "\n"
      ]
    },
    {
      "cell_type": "markdown",
      "metadata": {
        "id": "aE-An1Tgz1g6"
      },
      "source": [
        "## Imports"
      ]
    },
    {
      "cell_type": "code",
      "metadata": {
        "id": "pC7e-ytaBYHf"
      },
      "source": [
        "import tensorflow as tf\n",
        "import pandas as pd\n",
        "import numpy as np\n",
        "import matplotlib.pyplot as plt\n",
        "import seaborn as sns\n",
        "import os\n",
        "from tensorflow.keras.preprocessing import image "
      ],
      "execution_count": 3,
      "outputs": []
    },
    {
      "cell_type": "code",
      "metadata": {
        "colab": {
          "base_uri": "https://localhost:8080/",
          "height": 35
        },
        "id": "nyz9I-Kyt2Ms",
        "outputId": "ec6deb77-efd1-4149-a2ee-6ead344f07a4"
      },
      "source": [
        "# TensorFlow version in this notebook\n",
        "tf.version.VERSION"
      ],
      "execution_count": 4,
      "outputs": [
        {
          "output_type": "execute_result",
          "data": {
            "application/vnd.google.colaboratory.intrinsic+json": {
              "type": "string"
            },
            "text/plain": [
              "'2.5.0'"
            ]
          },
          "metadata": {
            "tags": []
          },
          "execution_count": 4
        }
      ]
    },
    {
      "cell_type": "markdown",
      "metadata": {
        "id": "2Snj--fSje9e"
      },
      "source": [
        "## Download data from Kaggle\n",
        "Navigate to https://www.kaggle.com. Then go to the [Account tab of your user profile](https://www.kaggle.com/me/account) and select Create API Token. This will trigger the download of kaggle.json, a file containing your API credentials. Now you can enter your username and key below to in order to download Kaggle data from Colab. "
      ]
    },
    {
      "cell_type": "code",
      "metadata": {
        "id": "npsBar6OjlcA"
      },
      "source": [
        "os.environ['KAGGLE_USERNAME']=\"enter-your-own-user-name\" #TODO: remove this before putting Colab on GitHub\n",
        "os.environ['KAGGLE_KEY']=\"enter-your-own-user-name\" #TODO: remove this before putting Colab on GitHub"
      ],
      "execution_count": 5,
      "outputs": []
    },
    {
      "cell_type": "code",
      "metadata": {
        "colab": {
          "base_uri": "https://localhost:8080/"
        },
        "id": "1AtC726okj-w",
        "outputId": "b9a032ff-a5f5-4b4c-b607-d2e1504a0649"
      },
      "source": [
        "!kaggle datasets download -d paramaggarwal/fashion-product-images-small"
      ],
      "execution_count": 6,
      "outputs": [
        {
          "output_type": "stream",
          "text": [
            "Downloading fashion-product-images-small.zip to /content\n",
            " 98% 555M/565M [00:16<00:00, 34.0MB/s]\n",
            "100% 565M/565M [00:16<00:00, 36.1MB/s]\n"
          ],
          "name": "stdout"
        }
      ]
    },
    {
      "cell_type": "code",
      "metadata": {
        "id": "1BEHMLsdlHWc"
      },
      "source": [
        "!mkdir -p datasets"
      ],
      "execution_count": 7,
      "outputs": []
    },
    {
      "cell_type": "markdown",
      "metadata": {
        "id": "3RpnKJCnOJu5"
      },
      "source": [
        "Unip data - styles.csv and the images"
      ]
    },
    {
      "cell_type": "code",
      "metadata": {
        "id": "RS3gBsjflMXO"
      },
      "source": [
        "# clear cell output\n",
        "!unzip fashion-product-images-small.zip -d datasets/"
      ],
      "execution_count": null,
      "outputs": []
    },
    {
      "cell_type": "markdown",
      "metadata": {
        "id": "bfT8gNFPXa_I"
      },
      "source": [
        "## Chart utils\n",
        "Here are two functions for making pie charts and bar charts."
      ]
    },
    {
      "cell_type": "code",
      "metadata": {
        "id": "9gWtiMLJXY8A"
      },
      "source": [
        "def plot_pie_chart(values, labels, title):\n",
        "  fig1, ax1 = plt.subplots()\n",
        "  ax1.pie(values, labels=labels, autopct='%1.1f%%', shadow=True)\n",
        "  plt.title(title, size=14, pad=15)\n",
        "\n",
        "  plt.show()"
      ],
      "execution_count": 45,
      "outputs": []
    },
    {
      "cell_type": "code",
      "metadata": {
        "id": "YYjcLeapXgzW"
      },
      "source": [
        "def plot_bar_chart(df, column, figsize=(10,5), title=None):\n",
        "    counts = df[column].value_counts()[:10]\n",
        "    plt.figure(figsize=figsize)\n",
        "    sns.barplot(counts.values, counts.index)\n",
        "    plt.xlabel('Number of rows', size=14, labelpad=15)\n",
        "    plt.xticks(rotation=0)\n",
        "    plt.ylabel(column, size=14)\n",
        "    plt.title(title, size=14, pad=15)\n",
        "    plt.show()"
      ],
      "execution_count": 49,
      "outputs": []
    },
    {
      "cell_type": "markdown",
      "metadata": {
        "id": "rqYeQt6Vja-o"
      },
      "source": [
        "## Create dataframe from csv file"
      ]
    },
    {
      "cell_type": "code",
      "metadata": {
        "id": "wZVrHXUh42fu"
      },
      "source": [
        "# Create dataframe\n",
        "fashion = pd.read_csv(\"datasets/styles.csv\", error_bad_lines=False, warn_bad_lines=False)"
      ],
      "execution_count": 50,
      "outputs": []
    },
    {
      "cell_type": "markdown",
      "metadata": {
        "id": "qgRNfHPQMbGp"
      },
      "source": [
        "## Explore dataframe overall"
      ]
    },
    {
      "cell_type": "code",
      "metadata": {
        "id": "qCnX4JKX6jlu",
        "colab": {
          "base_uri": "https://localhost:8080/",
          "height": 204
        },
        "outputId": "1ce29c3c-ec7b-4343-d067-b68da66543e5"
      },
      "source": [
        "fashion.head()"
      ],
      "execution_count": 51,
      "outputs": [
        {
          "output_type": "execute_result",
          "data": {
            "text/html": [
              "<div>\n",
              "<style scoped>\n",
              "    .dataframe tbody tr th:only-of-type {\n",
              "        vertical-align: middle;\n",
              "    }\n",
              "\n",
              "    .dataframe tbody tr th {\n",
              "        vertical-align: top;\n",
              "    }\n",
              "\n",
              "    .dataframe thead th {\n",
              "        text-align: right;\n",
              "    }\n",
              "</style>\n",
              "<table border=\"1\" class=\"dataframe\">\n",
              "  <thead>\n",
              "    <tr style=\"text-align: right;\">\n",
              "      <th></th>\n",
              "      <th>id</th>\n",
              "      <th>gender</th>\n",
              "      <th>masterCategory</th>\n",
              "      <th>subCategory</th>\n",
              "      <th>articleType</th>\n",
              "      <th>baseColour</th>\n",
              "      <th>season</th>\n",
              "      <th>year</th>\n",
              "      <th>usage</th>\n",
              "      <th>productDisplayName</th>\n",
              "    </tr>\n",
              "  </thead>\n",
              "  <tbody>\n",
              "    <tr>\n",
              "      <th>0</th>\n",
              "      <td>15970</td>\n",
              "      <td>Men</td>\n",
              "      <td>Apparel</td>\n",
              "      <td>Topwear</td>\n",
              "      <td>Shirts</td>\n",
              "      <td>Navy Blue</td>\n",
              "      <td>Fall</td>\n",
              "      <td>2011.0</td>\n",
              "      <td>Casual</td>\n",
              "      <td>Turtle Check Men Navy Blue Shirt</td>\n",
              "    </tr>\n",
              "    <tr>\n",
              "      <th>1</th>\n",
              "      <td>39386</td>\n",
              "      <td>Men</td>\n",
              "      <td>Apparel</td>\n",
              "      <td>Bottomwear</td>\n",
              "      <td>Jeans</td>\n",
              "      <td>Blue</td>\n",
              "      <td>Summer</td>\n",
              "      <td>2012.0</td>\n",
              "      <td>Casual</td>\n",
              "      <td>Peter England Men Party Blue Jeans</td>\n",
              "    </tr>\n",
              "    <tr>\n",
              "      <th>2</th>\n",
              "      <td>59263</td>\n",
              "      <td>Women</td>\n",
              "      <td>Accessories</td>\n",
              "      <td>Watches</td>\n",
              "      <td>Watches</td>\n",
              "      <td>Silver</td>\n",
              "      <td>Winter</td>\n",
              "      <td>2016.0</td>\n",
              "      <td>Casual</td>\n",
              "      <td>Titan Women Silver Watch</td>\n",
              "    </tr>\n",
              "    <tr>\n",
              "      <th>3</th>\n",
              "      <td>21379</td>\n",
              "      <td>Men</td>\n",
              "      <td>Apparel</td>\n",
              "      <td>Bottomwear</td>\n",
              "      <td>Track Pants</td>\n",
              "      <td>Black</td>\n",
              "      <td>Fall</td>\n",
              "      <td>2011.0</td>\n",
              "      <td>Casual</td>\n",
              "      <td>Manchester United Men Solid Black Track Pants</td>\n",
              "    </tr>\n",
              "    <tr>\n",
              "      <th>4</th>\n",
              "      <td>53759</td>\n",
              "      <td>Men</td>\n",
              "      <td>Apparel</td>\n",
              "      <td>Topwear</td>\n",
              "      <td>Tshirts</td>\n",
              "      <td>Grey</td>\n",
              "      <td>Summer</td>\n",
              "      <td>2012.0</td>\n",
              "      <td>Casual</td>\n",
              "      <td>Puma Men Grey T-shirt</td>\n",
              "    </tr>\n",
              "  </tbody>\n",
              "</table>\n",
              "</div>"
            ],
            "text/plain": [
              "      id gender  ...   usage                             productDisplayName\n",
              "0  15970    Men  ...  Casual               Turtle Check Men Navy Blue Shirt\n",
              "1  39386    Men  ...  Casual             Peter England Men Party Blue Jeans\n",
              "2  59263  Women  ...  Casual                       Titan Women Silver Watch\n",
              "3  21379    Men  ...  Casual  Manchester United Men Solid Black Track Pants\n",
              "4  53759    Men  ...  Casual                          Puma Men Grey T-shirt\n",
              "\n",
              "[5 rows x 10 columns]"
            ]
          },
          "metadata": {
            "tags": []
          },
          "execution_count": 51
        }
      ]
    },
    {
      "cell_type": "markdown",
      "metadata": {
        "id": "6_XYXxVdT64S"
      },
      "source": [
        "There are total of 44,424 images in the dataset with ten columns: id, gender, masterCategory, subCategory, articleType, baseColor, season, year, usage and productDisplayName."
      ]
    },
    {
      "cell_type": "code",
      "metadata": {
        "id": "3IJ-Jp-Y7htv",
        "colab": {
          "base_uri": "https://localhost:8080/",
          "height": 390
        },
        "outputId": "dc6450a2-5777-401f-f992-d05564082a63"
      },
      "source": [
        "fashion.describe(include='all')"
      ],
      "execution_count": 52,
      "outputs": [
        {
          "output_type": "execute_result",
          "data": {
            "text/html": [
              "<div>\n",
              "<style scoped>\n",
              "    .dataframe tbody tr th:only-of-type {\n",
              "        vertical-align: middle;\n",
              "    }\n",
              "\n",
              "    .dataframe tbody tr th {\n",
              "        vertical-align: top;\n",
              "    }\n",
              "\n",
              "    .dataframe thead th {\n",
              "        text-align: right;\n",
              "    }\n",
              "</style>\n",
              "<table border=\"1\" class=\"dataframe\">\n",
              "  <thead>\n",
              "    <tr style=\"text-align: right;\">\n",
              "      <th></th>\n",
              "      <th>id</th>\n",
              "      <th>gender</th>\n",
              "      <th>masterCategory</th>\n",
              "      <th>subCategory</th>\n",
              "      <th>articleType</th>\n",
              "      <th>baseColour</th>\n",
              "      <th>season</th>\n",
              "      <th>year</th>\n",
              "      <th>usage</th>\n",
              "      <th>productDisplayName</th>\n",
              "    </tr>\n",
              "  </thead>\n",
              "  <tbody>\n",
              "    <tr>\n",
              "      <th>count</th>\n",
              "      <td>44424.000000</td>\n",
              "      <td>44424</td>\n",
              "      <td>44424</td>\n",
              "      <td>44424</td>\n",
              "      <td>44424</td>\n",
              "      <td>44409</td>\n",
              "      <td>44403</td>\n",
              "      <td>44423.000000</td>\n",
              "      <td>44107</td>\n",
              "      <td>44417</td>\n",
              "    </tr>\n",
              "    <tr>\n",
              "      <th>unique</th>\n",
              "      <td>NaN</td>\n",
              "      <td>5</td>\n",
              "      <td>7</td>\n",
              "      <td>45</td>\n",
              "      <td>143</td>\n",
              "      <td>46</td>\n",
              "      <td>4</td>\n",
              "      <td>NaN</td>\n",
              "      <td>8</td>\n",
              "      <td>31121</td>\n",
              "    </tr>\n",
              "    <tr>\n",
              "      <th>top</th>\n",
              "      <td>NaN</td>\n",
              "      <td>Men</td>\n",
              "      <td>Apparel</td>\n",
              "      <td>Topwear</td>\n",
              "      <td>Tshirts</td>\n",
              "      <td>Black</td>\n",
              "      <td>Summer</td>\n",
              "      <td>NaN</td>\n",
              "      <td>Casual</td>\n",
              "      <td>Lucera Women Silver Earrings</td>\n",
              "    </tr>\n",
              "    <tr>\n",
              "      <th>freq</th>\n",
              "      <td>NaN</td>\n",
              "      <td>22147</td>\n",
              "      <td>21397</td>\n",
              "      <td>15402</td>\n",
              "      <td>7067</td>\n",
              "      <td>9728</td>\n",
              "      <td>21472</td>\n",
              "      <td>NaN</td>\n",
              "      <td>34406</td>\n",
              "      <td>82</td>\n",
              "    </tr>\n",
              "    <tr>\n",
              "      <th>mean</th>\n",
              "      <td>29696.334301</td>\n",
              "      <td>NaN</td>\n",
              "      <td>NaN</td>\n",
              "      <td>NaN</td>\n",
              "      <td>NaN</td>\n",
              "      <td>NaN</td>\n",
              "      <td>NaN</td>\n",
              "      <td>2012.806497</td>\n",
              "      <td>NaN</td>\n",
              "      <td>NaN</td>\n",
              "    </tr>\n",
              "    <tr>\n",
              "      <th>std</th>\n",
              "      <td>17049.490518</td>\n",
              "      <td>NaN</td>\n",
              "      <td>NaN</td>\n",
              "      <td>NaN</td>\n",
              "      <td>NaN</td>\n",
              "      <td>NaN</td>\n",
              "      <td>NaN</td>\n",
              "      <td>2.126480</td>\n",
              "      <td>NaN</td>\n",
              "      <td>NaN</td>\n",
              "    </tr>\n",
              "    <tr>\n",
              "      <th>min</th>\n",
              "      <td>1163.000000</td>\n",
              "      <td>NaN</td>\n",
              "      <td>NaN</td>\n",
              "      <td>NaN</td>\n",
              "      <td>NaN</td>\n",
              "      <td>NaN</td>\n",
              "      <td>NaN</td>\n",
              "      <td>2007.000000</td>\n",
              "      <td>NaN</td>\n",
              "      <td>NaN</td>\n",
              "    </tr>\n",
              "    <tr>\n",
              "      <th>25%</th>\n",
              "      <td>14768.750000</td>\n",
              "      <td>NaN</td>\n",
              "      <td>NaN</td>\n",
              "      <td>NaN</td>\n",
              "      <td>NaN</td>\n",
              "      <td>NaN</td>\n",
              "      <td>NaN</td>\n",
              "      <td>2011.000000</td>\n",
              "      <td>NaN</td>\n",
              "      <td>NaN</td>\n",
              "    </tr>\n",
              "    <tr>\n",
              "      <th>50%</th>\n",
              "      <td>28618.500000</td>\n",
              "      <td>NaN</td>\n",
              "      <td>NaN</td>\n",
              "      <td>NaN</td>\n",
              "      <td>NaN</td>\n",
              "      <td>NaN</td>\n",
              "      <td>NaN</td>\n",
              "      <td>2012.000000</td>\n",
              "      <td>NaN</td>\n",
              "      <td>NaN</td>\n",
              "    </tr>\n",
              "    <tr>\n",
              "      <th>75%</th>\n",
              "      <td>44683.250000</td>\n",
              "      <td>NaN</td>\n",
              "      <td>NaN</td>\n",
              "      <td>NaN</td>\n",
              "      <td>NaN</td>\n",
              "      <td>NaN</td>\n",
              "      <td>NaN</td>\n",
              "      <td>2015.000000</td>\n",
              "      <td>NaN</td>\n",
              "      <td>NaN</td>\n",
              "    </tr>\n",
              "    <tr>\n",
              "      <th>max</th>\n",
              "      <td>60000.000000</td>\n",
              "      <td>NaN</td>\n",
              "      <td>NaN</td>\n",
              "      <td>NaN</td>\n",
              "      <td>NaN</td>\n",
              "      <td>NaN</td>\n",
              "      <td>NaN</td>\n",
              "      <td>2019.000000</td>\n",
              "      <td>NaN</td>\n",
              "      <td>NaN</td>\n",
              "    </tr>\n",
              "  </tbody>\n",
              "</table>\n",
              "</div>"
            ],
            "text/plain": [
              "                  id gender  ...   usage            productDisplayName\n",
              "count   44424.000000  44424  ...   44107                         44417\n",
              "unique           NaN      5  ...       8                         31121\n",
              "top              NaN    Men  ...  Casual  Lucera Women Silver Earrings\n",
              "freq             NaN  22147  ...   34406                            82\n",
              "mean    29696.334301    NaN  ...     NaN                           NaN\n",
              "std     17049.490518    NaN  ...     NaN                           NaN\n",
              "min      1163.000000    NaN  ...     NaN                           NaN\n",
              "25%     14768.750000    NaN  ...     NaN                           NaN\n",
              "50%     28618.500000    NaN  ...     NaN                           NaN\n",
              "75%     44683.250000    NaN  ...     NaN                           NaN\n",
              "max     60000.000000    NaN  ...     NaN                           NaN\n",
              "\n",
              "[11 rows x 10 columns]"
            ]
          },
          "metadata": {
            "tags": []
          },
          "execution_count": 52
        }
      ]
    },
    {
      "cell_type": "code",
      "metadata": {
        "id": "ND1QdXdrA-RN",
        "colab": {
          "base_uri": "https://localhost:8080/"
        },
        "outputId": "07141543-988a-4cf2-96de-1b73e51a9ef7"
      },
      "source": [
        "fashion.info()"
      ],
      "execution_count": 53,
      "outputs": [
        {
          "output_type": "stream",
          "text": [
            "<class 'pandas.core.frame.DataFrame'>\n",
            "RangeIndex: 44424 entries, 0 to 44423\n",
            "Data columns (total 10 columns):\n",
            " #   Column              Non-Null Count  Dtype  \n",
            "---  ------              --------------  -----  \n",
            " 0   id                  44424 non-null  int64  \n",
            " 1   gender              44424 non-null  object \n",
            " 2   masterCategory      44424 non-null  object \n",
            " 3   subCategory         44424 non-null  object \n",
            " 4   articleType         44424 non-null  object \n",
            " 5   baseColour          44409 non-null  object \n",
            " 6   season              44403 non-null  object \n",
            " 7   year                44423 non-null  float64\n",
            " 8   usage               44107 non-null  object \n",
            " 9   productDisplayName  44417 non-null  object \n",
            "dtypes: float64(1), int64(1), object(8)\n",
            "memory usage: 3.4+ MB\n"
          ],
          "name": "stdout"
        }
      ]
    },
    {
      "cell_type": "markdown",
      "metadata": {
        "id": "9oauGffbMj1H"
      },
      "source": [
        "There aren't that many null values in the dataset. The 'usage' column has the most null values"
      ]
    },
    {
      "cell_type": "code",
      "metadata": {
        "colab": {
          "base_uri": "https://localhost:8080/"
        },
        "id": "HLMGmjUBMrRy",
        "outputId": "5b54d0d4-77d7-4b61-ae59-e32731574d21"
      },
      "source": [
        "# Sum null value counts by column\n",
        "fashion.isnull().sum(axis = 0)"
      ],
      "execution_count": 54,
      "outputs": [
        {
          "output_type": "execute_result",
          "data": {
            "text/plain": [
              "id                      0\n",
              "gender                  0\n",
              "masterCategory          0\n",
              "subCategory             0\n",
              "articleType             0\n",
              "baseColour             15\n",
              "season                 21\n",
              "year                    1\n",
              "usage                 317\n",
              "productDisplayName      7\n",
              "dtype: int64"
            ]
          },
          "metadata": {
            "tags": []
          },
          "execution_count": 54
        }
      ]
    },
    {
      "cell_type": "markdown",
      "metadata": {
        "id": "iTFnU5R6TrPx"
      },
      "source": [
        "There are 7 products with no display name."
      ]
    },
    {
      "cell_type": "code",
      "metadata": {
        "id": "DijUkzhtBTfw",
        "colab": {
          "base_uri": "https://localhost:8080/"
        },
        "outputId": "d91ea965-704e-47e8-c3ee-837bf68d0d94"
      },
      "source": [
        "fashion.productDisplayName.isnull().sum()"
      ],
      "execution_count": 55,
      "outputs": [
        {
          "output_type": "execute_result",
          "data": {
            "text/plain": [
              "7"
            ]
          },
          "metadata": {
            "tags": []
          },
          "execution_count": 55
        }
      ]
    },
    {
      "cell_type": "markdown",
      "metadata": {
        "id": "af3Ebnr8Ty_v"
      },
      "source": [
        "Year 2012 has the largest number of fashion images in this dataset."
      ]
    },
    {
      "cell_type": "code",
      "metadata": {
        "id": "iczoBNsXZkpZ",
        "colab": {
          "base_uri": "https://localhost:8080/"
        },
        "outputId": "69f6a67c-ed2b-4576-8b40-542c882d8d78"
      },
      "source": [
        "fashion.year.value_counts()"
      ],
      "execution_count": 56,
      "outputs": [
        {
          "output_type": "execute_result",
          "data": {
            "text/plain": [
              "2012.0    16288\n",
              "2011.0    13672\n",
              "2016.0     6006\n",
              "2017.0     2916\n",
              "2015.0     2780\n",
              "2013.0     1212\n",
              "2010.0      846\n",
              "2018.0      405\n",
              "2014.0      236\n",
              "2019.0       33\n",
              "2009.0       20\n",
              "2008.0        7\n",
              "2007.0        2\n",
              "Name: year, dtype: int64"
            ]
          },
          "metadata": {
            "tags": []
          },
          "execution_count": 56
        }
      ]
    },
    {
      "cell_type": "markdown",
      "metadata": {
        "id": "viWafjBrKeqM"
      },
      "source": [
        "## Gender"
      ]
    },
    {
      "cell_type": "code",
      "metadata": {
        "colab": {
          "base_uri": "https://localhost:8080/"
        },
        "id": "fpPDhCPoZWxt",
        "outputId": "bbce3015-c9ee-415a-d057-900c2529c906"
      },
      "source": [
        "fashion.gender.value_counts()"
      ],
      "execution_count": 57,
      "outputs": [
        {
          "output_type": "execute_result",
          "data": {
            "text/plain": [
              "Men       22147\n",
              "Women     18631\n",
              "Unisex     2161\n",
              "Boys        830\n",
              "Girls       655\n",
              "Name: gender, dtype: int64"
            ]
          },
          "metadata": {
            "tags": []
          },
          "execution_count": 57
        }
      ]
    },
    {
      "cell_type": "markdown",
      "metadata": {
        "id": "AjhQEdaOKyKO"
      },
      "source": [
        "## Master Category\n",
        "There are 7 master categories in the dataframe. Notice that 'Free Items', 'Sporting Goods' and 'Home' have very few rows."
      ]
    },
    {
      "cell_type": "code",
      "metadata": {
        "id": "99LVjfhE7jOb",
        "colab": {
          "base_uri": "https://localhost:8080/"
        },
        "outputId": "018d3263-c77b-4e26-fea0-98852a1bf285"
      },
      "source": [
        "fashion.masterCategory.value_counts()"
      ],
      "execution_count": 58,
      "outputs": [
        {
          "output_type": "execute_result",
          "data": {
            "text/plain": [
              "Apparel           21397\n",
              "Accessories       11274\n",
              "Footwear           9219\n",
              "Personal Care      2403\n",
              "Free Items          105\n",
              "Sporting Goods       25\n",
              "Home                  1\n",
              "Name: masterCategory, dtype: int64"
            ]
          },
          "metadata": {
            "tags": []
          },
          "execution_count": 58
        }
      ]
    },
    {
      "cell_type": "code",
      "metadata": {
        "colab": {
          "base_uri": "https://localhost:8080/",
          "height": 274
        },
        "id": "SF6oOTnUW_OF",
        "outputId": "5419fda2-89f4-4b8c-8f97-f28f2f9d14c6"
      },
      "source": [
        "values = fashion.masterCategory.value_counts()[:3].values\n",
        "labels = fashion.masterCategory.value_counts()[:3].index\n",
        "\n",
        "plot_pie_chart(values, labels, \"Top 3 Fashion Master Categories\")"
      ],
      "execution_count": 59,
      "outputs": [
        {
          "output_type": "display_data",
          "data": {
            "image/png": "[encoded data removed]",
            "text/plain": [
              "<Figure size 432x288 with 1 Axes>"
            ]
          },
          "metadata": {
            "tags": []
          }
        }
      ]
    },
    {
      "cell_type": "markdown",
      "metadata": {
        "id": "dNG12xElWyHJ"
      },
      "source": [
        "There is no null values in the masterCategory column"
      ]
    },
    {
      "cell_type": "code",
      "metadata": {
        "id": "XwKd0gMgA56G",
        "colab": {
          "base_uri": "https://localhost:8080/"
        },
        "outputId": "10741151-434f-4cdb-dae3-72c5eb9ab224"
      },
      "source": [
        "fashion.masterCategory.isnull().sum()"
      ],
      "execution_count": 60,
      "outputs": [
        {
          "output_type": "execute_result",
          "data": {
            "text/plain": [
              "0"
            ]
          },
          "metadata": {
            "tags": []
          },
          "execution_count": 60
        }
      ]
    },
    {
      "cell_type": "markdown",
      "metadata": {
        "id": "-icXbzNrLZmt"
      },
      "source": [
        "Take a look at a few rows where the master category is 'Footwear'"
      ]
    },
    {
      "cell_type": "code",
      "metadata": {
        "colab": {
          "base_uri": "https://localhost:8080/",
          "height": 204
        },
        "id": "AKGaByFiKHnN",
        "outputId": "1d3d64b8-8793-4501-d130-12b2e8547694"
      },
      "source": [
        "fashion[fashion['masterCategory']=='Footwear'].head()"
      ],
      "execution_count": 61,
      "outputs": [
        {
          "output_type": "execute_result",
          "data": {
            "text/html": [
              "<div>\n",
              "<style scoped>\n",
              "    .dataframe tbody tr th:only-of-type {\n",
              "        vertical-align: middle;\n",
              "    }\n",
              "\n",
              "    .dataframe tbody tr th {\n",
              "        vertical-align: top;\n",
              "    }\n",
              "\n",
              "    .dataframe thead th {\n",
              "        text-align: right;\n",
              "    }\n",
              "</style>\n",
              "<table border=\"1\" class=\"dataframe\">\n",
              "  <thead>\n",
              "    <tr style=\"text-align: right;\">\n",
              "      <th></th>\n",
              "      <th>id</th>\n",
              "      <th>gender</th>\n",
              "      <th>masterCategory</th>\n",
              "      <th>subCategory</th>\n",
              "      <th>articleType</th>\n",
              "      <th>baseColour</th>\n",
              "      <th>season</th>\n",
              "      <th>year</th>\n",
              "      <th>usage</th>\n",
              "      <th>productDisplayName</th>\n",
              "    </tr>\n",
              "  </thead>\n",
              "  <tbody>\n",
              "    <tr>\n",
              "      <th>10</th>\n",
              "      <td>9204</td>\n",
              "      <td>Men</td>\n",
              "      <td>Footwear</td>\n",
              "      <td>Shoes</td>\n",
              "      <td>Casual Shoes</td>\n",
              "      <td>Black</td>\n",
              "      <td>Summer</td>\n",
              "      <td>2011.0</td>\n",
              "      <td>Casual</td>\n",
              "      <td>Puma Men Future Cat Remix SF Black Casual Shoes</td>\n",
              "    </tr>\n",
              "    <tr>\n",
              "      <th>12</th>\n",
              "      <td>18653</td>\n",
              "      <td>Men</td>\n",
              "      <td>Footwear</td>\n",
              "      <td>Flip Flops</td>\n",
              "      <td>Flip Flops</td>\n",
              "      <td>Black</td>\n",
              "      <td>Fall</td>\n",
              "      <td>2011.0</td>\n",
              "      <td>Casual</td>\n",
              "      <td>Fila Men Cush Flex Black Slippers</td>\n",
              "    </tr>\n",
              "    <tr>\n",
              "      <th>14</th>\n",
              "      <td>46885</td>\n",
              "      <td>Boys</td>\n",
              "      <td>Footwear</td>\n",
              "      <td>Flip Flops</td>\n",
              "      <td>Flip Flops</td>\n",
              "      <td>Navy Blue</td>\n",
              "      <td>Fall</td>\n",
              "      <td>2012.0</td>\n",
              "      <td>Casual</td>\n",
              "      <td>Ben 10 Boys Navy Blue Slippers</td>\n",
              "    </tr>\n",
              "    <tr>\n",
              "      <th>21</th>\n",
              "      <td>12967</td>\n",
              "      <td>Men</td>\n",
              "      <td>Footwear</td>\n",
              "      <td>Sandal</td>\n",
              "      <td>Sandals</td>\n",
              "      <td>Black</td>\n",
              "      <td>Fall</td>\n",
              "      <td>2011.0</td>\n",
              "      <td>Casual</td>\n",
              "      <td>ADIDAS Men Spry M Black Sandals</td>\n",
              "    </tr>\n",
              "    <tr>\n",
              "      <th>25</th>\n",
              "      <td>9036</td>\n",
              "      <td>Men</td>\n",
              "      <td>Footwear</td>\n",
              "      <td>Shoes</td>\n",
              "      <td>Formal Shoes</td>\n",
              "      <td>Black</td>\n",
              "      <td>Winter</td>\n",
              "      <td>2011.0</td>\n",
              "      <td>Formal</td>\n",
              "      <td>Buckaroo Men Flores Black Formal Shoes</td>\n",
              "    </tr>\n",
              "  </tbody>\n",
              "</table>\n",
              "</div>"
            ],
            "text/plain": [
              "       id gender  ...   usage                               productDisplayName\n",
              "10   9204    Men  ...  Casual  Puma Men Future Cat Remix SF Black Casual Shoes\n",
              "12  18653    Men  ...  Casual                Fila Men Cush Flex Black Slippers\n",
              "14  46885   Boys  ...  Casual                   Ben 10 Boys Navy Blue Slippers\n",
              "21  12967    Men  ...  Casual                  ADIDAS Men Spry M Black Sandals\n",
              "25   9036    Men  ...  Formal           Buckaroo Men Flores Black Formal Shoes\n",
              "\n",
              "[5 rows x 10 columns]"
            ]
          },
          "metadata": {
            "tags": []
          },
          "execution_count": 61
        }
      ]
    },
    {
      "cell_type": "markdown",
      "metadata": {
        "id": "hD9_kLECLhAa"
      },
      "source": [
        "## Sub category"
      ]
    },
    {
      "cell_type": "code",
      "metadata": {
        "colab": {
          "base_uri": "https://localhost:8080/"
        },
        "id": "7UKmF6JbLmDF",
        "outputId": "e17d9472-8337-4418-c259-ef9b85286291"
      },
      "source": [
        "# Let's count number of rows per sub category\n",
        "fashion.subCategory.value_counts()"
      ],
      "execution_count": 62,
      "outputs": [
        {
          "output_type": "execute_result",
          "data": {
            "text/plain": [
              "Topwear                     15402\n",
              "Shoes                        7343\n",
              "Bags                         3055\n",
              "Bottomwear                   2694\n",
              "Watches                      2542\n",
              "Innerwear                    1808\n",
              "Jewellery                    1079\n",
              "Eyewear                      1073\n",
              "Fragrance                    1011\n",
              "Sandal                        963\n",
              "Wallets                       933\n",
              "Flip Flops                    913\n",
              "Belts                         811\n",
              "Socks                         698\n",
              "Lips                          527\n",
              "Dress                         478\n",
              "Loungewear and Nightwear      470\n",
              "Saree                         427\n",
              "Nails                         329\n",
              "Makeup                        307\n",
              "Headwear                      293\n",
              "Ties                          258\n",
              "Accessories                   129\n",
              "Scarves                       118\n",
              "Cufflinks                     108\n",
              "Apparel Set                   106\n",
              "Free Gifts                    104\n",
              "Stoles                         90\n",
              "Skin Care                      77\n",
              "Skin                           69\n",
              "Eyes                           43\n",
              "Mufflers                       38\n",
              "Shoe Accessories               24\n",
              "Sports Equipment               21\n",
              "Gloves                         20\n",
              "Hair                           19\n",
              "Bath and Body                  12\n",
              "Water Bottle                    7\n",
              "Perfumes                        6\n",
              "Umbrellas                       6\n",
              "Wristbands                      4\n",
              "Beauty Accessories              4\n",
              "Sports Accessories              3\n",
              "Vouchers                        1\n",
              "Home Furnishing                 1\n",
              "Name: subCategory, dtype: int64"
            ]
          },
          "metadata": {
            "tags": []
          },
          "execution_count": 62
        }
      ]
    },
    {
      "cell_type": "markdown",
      "metadata": {
        "id": "52QqMho_LyZb"
      },
      "source": [
        "There are total of 45 sub categories where 'Topwear' has 15402 images while quite a few sub categories only have a few images in them."
      ]
    },
    {
      "cell_type": "code",
      "metadata": {
        "colab": {
          "base_uri": "https://localhost:8080/"
        },
        "id": "9WoM13LfLz4X",
        "outputId": "3f0d10c9-af19-4810-d4dc-4496e57b7589"
      },
      "source": [
        "len(fashion.subCategory.value_counts())"
      ],
      "execution_count": 63,
      "outputs": [
        {
          "output_type": "execute_result",
          "data": {
            "text/plain": [
              "45"
            ]
          },
          "metadata": {
            "tags": []
          },
          "execution_count": 63
        }
      ]
    },
    {
      "cell_type": "code",
      "metadata": {
        "colab": {
          "base_uri": "https://localhost:8080/"
        },
        "id": "sFE0MuSyqWgP",
        "outputId": "7ec1bd43-923d-4369-d8f8-3a021b266fe8"
      },
      "source": [
        "# Top 20 sub categories\n",
        "fashion.subCategory.value_counts()[:20]"
      ],
      "execution_count": 64,
      "outputs": [
        {
          "output_type": "execute_result",
          "data": {
            "text/plain": [
              "Topwear                     15402\n",
              "Shoes                        7343\n",
              "Bags                         3055\n",
              "Bottomwear                   2694\n",
              "Watches                      2542\n",
              "Innerwear                    1808\n",
              "Jewellery                    1079\n",
              "Eyewear                      1073\n",
              "Fragrance                    1011\n",
              "Sandal                        963\n",
              "Wallets                       933\n",
              "Flip Flops                    913\n",
              "Belts                         811\n",
              "Socks                         698\n",
              "Lips                          527\n",
              "Dress                         478\n",
              "Loungewear and Nightwear      470\n",
              "Saree                         427\n",
              "Nails                         329\n",
              "Makeup                        307\n",
              "Name: subCategory, dtype: int64"
            ]
          },
          "metadata": {
            "tags": []
          },
          "execution_count": 64
        }
      ]
    },
    {
      "cell_type": "markdown",
      "metadata": {
        "id": "XLQEKZImMH17"
      },
      "source": [
        "Let's visualize the top 10 fashion sub categories:\n"
      ]
    },
    {
      "cell_type": "code",
      "metadata": {
        "colab": {
          "base_uri": "https://localhost:8080/",
          "height": 429
        },
        "id": "9hdfnRyVYpMd",
        "outputId": "8eff107c-899e-46a5-faf3-332a346bd0ef"
      },
      "source": [
        "plot_bar_chart(fashion, column=\"subCategory\", title=\"Top 10 Fashion Sub Categories\")"
      ],
      "execution_count": 65,
      "outputs": [
        {
          "output_type": "stream",
          "text": [
            "/usr/local/lib/python3.7/dist-packages/seaborn/_decorators.py:43: FutureWarning: Pass the following variables as keyword args: x, y. From version 0.12, the only valid positional argument will be `data`, and passing other arguments without an explicit keyword will result in an error or misinterpretation.\n",
            "  FutureWarning\n"
          ],
          "name": "stderr"
        },
        {
          "output_type": "display_data",
          "data": {
            "image/png": "[encoded data removed]",
            "text/plain": [
              "<Figure size 720x360 with 1 Axes>"
            ]
          },
          "metadata": {
            "tags": [],
            "needs_background": "light"
          }
        }
      ]
    },
    {
      "cell_type": "markdown",
      "metadata": {
        "id": "ikRmCvKdQiyT"
      },
      "source": [
        "## Master + Sub Category"
      ]
    },
    {
      "cell_type": "code",
      "metadata": {
        "colab": {
          "base_uri": "https://localhost:8080/"
        },
        "id": "lRtIO0lDQlt8",
        "outputId": "83ec5379-1028-4eb1-fcc2-297e19d528de"
      },
      "source": [
        "fashion.groupby(['masterCategory','subCategory'])['id'].count()"
      ],
      "execution_count": 40,
      "outputs": [
        {
          "output_type": "execute_result",
          "data": {
            "text/plain": [
              "masterCategory  subCategory             \n",
              "Accessories     Accessories                   129\n",
              "                Bags                         3055\n",
              "                Belts                         811\n",
              "                Cufflinks                     108\n",
              "                Eyewear                      1073\n",
              "                Gloves                         20\n",
              "                Headwear                      293\n",
              "                Jewellery                    1079\n",
              "                Mufflers                       38\n",
              "                Perfumes                        1\n",
              "                Scarves                       118\n",
              "                Shoe Accessories               24\n",
              "                Socks                         686\n",
              "                Sports Accessories              3\n",
              "                Stoles                         90\n",
              "                Ties                          258\n",
              "                Umbrellas                       6\n",
              "                Wallets                       933\n",
              "                Watches                      2542\n",
              "                Water Bottle                    7\n",
              "Apparel         Apparel Set                   106\n",
              "                Bottomwear                   2694\n",
              "                Dress                         478\n",
              "                Innerwear                    1808\n",
              "                Loungewear and Nightwear      470\n",
              "                Saree                         427\n",
              "                Socks                          12\n",
              "                Topwear                     15402\n",
              "Footwear        Flip Flops                    913\n",
              "                Sandal                        963\n",
              "                Shoes                        7343\n",
              "Free Items      Free Gifts                    104\n",
              "                Vouchers                        1\n",
              "Home            Home Furnishing                 1\n",
              "Personal Care   Bath and Body                  12\n",
              "                Beauty Accessories              4\n",
              "                Eyes                           43\n",
              "                Fragrance                    1011\n",
              "                Hair                           19\n",
              "                Lips                          527\n",
              "                Makeup                        307\n",
              "                Nails                         329\n",
              "                Perfumes                        5\n",
              "                Skin                           69\n",
              "                Skin Care                      77\n",
              "Sporting Goods  Sports Equipment               21\n",
              "                Wristbands                      4\n",
              "Name: id, dtype: int64"
            ]
          },
          "metadata": {
            "tags": []
          },
          "execution_count": 40
        }
      ]
    },
    {
      "cell_type": "markdown",
      "metadata": {
        "id": "XZKNPYgfMNiq"
      },
      "source": [
        "## Usage\n",
        "The top usage of images from this dataset falls under 'Casual'."
      ]
    },
    {
      "cell_type": "code",
      "metadata": {
        "id": "HD_z44YUPvxi",
        "colab": {
          "base_uri": "https://localhost:8080/"
        },
        "outputId": "21bd04da-0eb9-4e7a-aee7-269388dce6f8"
      },
      "source": [
        "fashion.usage.value_counts()"
      ],
      "execution_count": null,
      "outputs": [
        {
          "output_type": "execute_result",
          "data": {
            "text/plain": [
              "Casual          34406\n",
              "Sports           4025\n",
              "Ethnic           3208\n",
              "Formal           2345\n",
              "Smart Casual       67\n",
              "Party              29\n",
              "Travel             26\n",
              "Home                1\n",
              "Name: usage, dtype: int64"
            ]
          },
          "metadata": {
            "tags": []
          },
          "execution_count": 19
        }
      ]
    },
    {
      "cell_type": "code",
      "metadata": {
        "id": "RcyRjuziPmZJ",
        "colab": {
          "base_uri": "https://localhost:8080/"
        },
        "outputId": "23342e72-6b0e-4e4a-ceae-86829953e8e6"
      },
      "source": [
        "fashion.usage.describe()"
      ],
      "execution_count": null,
      "outputs": [
        {
          "output_type": "execute_result",
          "data": {
            "text/plain": [
              "count      44107\n",
              "unique         8\n",
              "top       Casual\n",
              "freq       34406\n",
              "Name: usage, dtype: object"
            ]
          },
          "metadata": {
            "tags": []
          },
          "execution_count": 20
        }
      ]
    }
  ]
}